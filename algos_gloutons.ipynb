{
  "nbformat": 4,
  "nbformat_minor": 0,
  "metadata": {
    "colab": {
      "name": "algos-gloutons.ipynb",
      "provenance": [],
      "authorship_tag": "ABX9TyOaneqUlu3rTc6fb8YITruX",
      "include_colab_link": true
    },
    "kernelspec": {
      "name": "python3",
      "display_name": "Python 3"
    }
  },
  "cells": [
    {
      "cell_type": "markdown",
      "metadata": {
        "id": "view-in-github",
        "colab_type": "text"
      },
      "source": [
        "<a href=\"https://colab.research.google.com/github/sbihan35/DUNSI/blob/master/algos_gloutons.ipynb\" target=\"_parent\"><img src=\"https://colab.research.google.com/assets/colab-badge.svg\" alt=\"Open In Colab\"/></a>"
      ]
    },
    {
      "cell_type": "markdown",
      "metadata": {
        "id": "-VRgzqPFbYs4",
        "colab_type": "text"
      },
      "source": [
        "#Algorithmes gloutons\n",
        "\n"
      ]
    },
    {
      "cell_type": "markdown",
      "metadata": {
        "id": "MkjI4B_1cOTp",
        "colab_type": "text"
      },
      "source": [
        "\n",
        "\n",
        "##Problème du rendu monnaie\n",
        "\n"
      ]
    },
    {
      "cell_type": "code",
      "metadata": {
        "id": "vPCYd-ete2Fa",
        "colab_type": "code",
        "outputId": "853680e9-84aa-49e2-ac2a-67446e89021e",
        "colab": {
          "base_uri": "https://localhost:8080/",
          "height": 541
        }
      },
      "source": [
        "!pip install metakernel"
      ],
      "execution_count": 0,
      "outputs": [
        {
          "output_type": "stream",
          "text": [
            "Collecting metakernel\n",
            "\u001b[?25l  Downloading https://files.pythonhosted.org/packages/ad/a9/0cd74cfbc9c4aeb117bdb7fd9ff12c3890be34ef5c77932e00ef4afaca98/metakernel-0.24.3-py2.py3-none-any.whl (208kB)\n",
            "\u001b[K     |████████████████████████████████| 215kB 4.7MB/s \n",
            "\u001b[?25hCollecting ipyparallel\n",
            "\u001b[?25l  Downloading https://files.pythonhosted.org/packages/3f/82/aaa7a357845a98d4028f27c799f0d3bb2fe55fc1247c73dc712b4ae2344c/ipyparallel-6.2.4-py2.py3-none-any.whl (198kB)\n",
            "\u001b[K     |████████████████████████████████| 204kB 18.8MB/s \n",
            "\u001b[?25hCollecting portalocker\n",
            "  Downloading https://files.pythonhosted.org/packages/91/db/7bc703c0760df726839e0699b7f78a4d8217fdc9c7fcb1b51b39c5a22a4e/portalocker-1.5.2-py2.py3-none-any.whl\n",
            "Requirement already satisfied: ipykernel in /usr/local/lib/python3.6/dist-packages (from metakernel) (4.6.1)\n",
            "Requirement already satisfied: pexpect>=4.2 in /usr/local/lib/python3.6/dist-packages (from metakernel) (4.7.0)\n",
            "Requirement already satisfied: python-dateutil>=2.1 in /usr/local/lib/python3.6/dist-packages (from ipyparallel->metakernel) (2.6.1)\n",
            "Requirement already satisfied: ipython-genutils in /usr/local/lib/python3.6/dist-packages (from ipyparallel->metakernel) (0.2.0)\n",
            "Requirement already satisfied: traitlets>=4.3 in /usr/local/lib/python3.6/dist-packages (from ipyparallel->metakernel) (4.3.3)\n",
            "Requirement already satisfied: jupyter-client in /usr/local/lib/python3.6/dist-packages (from ipyparallel->metakernel) (5.3.4)\n",
            "Requirement already satisfied: pyzmq>=13 in /usr/local/lib/python3.6/dist-packages (from ipyparallel->metakernel) (17.0.0)\n",
            "Requirement already satisfied: ipython>=4 in /usr/local/lib/python3.6/dist-packages (from ipyparallel->metakernel) (5.5.0)\n",
            "Requirement already satisfied: decorator in /usr/local/lib/python3.6/dist-packages (from ipyparallel->metakernel) (4.4.1)\n",
            "Requirement already satisfied: tornado>=4 in /usr/local/lib/python3.6/dist-packages (from ipyparallel->metakernel) (4.5.3)\n",
            "Requirement already satisfied: ptyprocess>=0.5 in /usr/local/lib/python3.6/dist-packages (from pexpect>=4.2->metakernel) (0.6.0)\n",
            "Requirement already satisfied: six>=1.5 in /usr/local/lib/python3.6/dist-packages (from python-dateutil>=2.1->ipyparallel->metakernel) (1.12.0)\n",
            "Requirement already satisfied: jupyter-core>=4.6.0 in /usr/local/lib/python3.6/dist-packages (from jupyter-client->ipyparallel->metakernel) (4.6.1)\n",
            "Requirement already satisfied: setuptools>=18.5 in /usr/local/lib/python3.6/dist-packages (from ipython>=4->ipyparallel->metakernel) (42.0.2)\n",
            "Requirement already satisfied: simplegeneric>0.8 in /usr/local/lib/python3.6/dist-packages (from ipython>=4->ipyparallel->metakernel) (0.8.1)\n",
            "Requirement already satisfied: pygments in /usr/local/lib/python3.6/dist-packages (from ipython>=4->ipyparallel->metakernel) (2.1.3)\n",
            "Requirement already satisfied: pickleshare in /usr/local/lib/python3.6/dist-packages (from ipython>=4->ipyparallel->metakernel) (0.7.5)\n",
            "Requirement already satisfied: prompt-toolkit<2.0.0,>=1.0.4 in /usr/local/lib/python3.6/dist-packages (from ipython>=4->ipyparallel->metakernel) (1.0.18)\n",
            "Requirement already satisfied: wcwidth in /usr/local/lib/python3.6/dist-packages (from prompt-toolkit<2.0.0,>=1.0.4->ipython>=4->ipyparallel->metakernel) (0.1.8)\n",
            "Installing collected packages: ipyparallel, portalocker, metakernel\n",
            "Successfully installed ipyparallel-6.2.4 metakernel-0.24.3 portalocker-1.5.2\n"
          ],
          "name": "stdout"
        }
      ]
    },
    {
      "cell_type": "code",
      "metadata": {
        "id": "rIwHgGDze8Nb",
        "colab_type": "code",
        "colab": {}
      },
      "source": [
        "from metakernel import register_ipython_magics\n",
        "register_ipython_magics()"
      ],
      "execution_count": 0,
      "outputs": []
    },
    {
      "cell_type": "code",
      "metadata": {
        "id": "udv0pSNnbW59",
        "colab_type": "code",
        "colab": {}
      },
      "source": [
        "def rendu_monnaie(pièces , somme):\n",
        "  rendu = []\n",
        "  while somme != 0 :\n",
        "    i = 0\n",
        "    while (pièces[i] > somme):\n",
        "      i = i + 1\n",
        "    rendu.append(pièces[i])\n",
        "    somme = somme - pièces[i]\n",
        "    #print(rendu)\n",
        "  print (somme)\n",
        "  return rendu\n",
        "\n"
      ],
      "execution_count": 0,
      "outputs": []
    },
    {
      "cell_type": "code",
      "metadata": {
        "id": "-NfdSlmrnwQy",
        "colab_type": "code",
        "outputId": "bf14f6ab-5c69-4371-fca9-0384d91a925d",
        "colab": {
          "base_uri": "https://localhost:8080/",
          "height": 522
        }
      },
      "source": [
        "%%tutor\n",
        "def rendu_monnaie_rec(pieces, somme) :\n",
        "  print (\"rend monnaie :\", somme)\n",
        "  if (somme == 0) : \n",
        "    rendu = []\n",
        "  else : \n",
        "    i = 0\n",
        "    while(pieces[i] > somme) : \n",
        "      i += 1\n",
        "    rendu = rendu_monnaie_rec(pieces, somme - pieces[i])\n",
        "    rendu.append(pieces[i])\n",
        "  return rendu\n",
        "\n",
        "pieces = [500, 200, 100, 50, 20, 10, 5, 2, 1]\n",
        "n = 37\n",
        "print(rendu_monnaie_rec(pieces, n))\n",
        "print(n)"
      ],
      "execution_count": 0,
      "outputs": [
        {
          "output_type": "display_data",
          "data": {
            "text/html": [
              "\n",
              "        <iframe\n",
              "            width=\"100%\"\n",
              "            height=\"500\"\n",
              "            src=\"https://pythontutor.com/iframe-embed.html#code=def%20rendu_monnaie_rec%28pieces%2C%20somme%29%20%3A%0A%20%20print%20%28%22rend%20monnaie%20%3A%22%2C%20somme%29%0A%20%20if%20%28somme%20%3D%3D%200%29%20%3A%20%0A%20%20%20%20rendu%20%3D%20%5B%5D%0A%20%20else%20%3A%20%0A%20%20%20%20i%20%3D%200%0A%20%20%20%20while%28pieces%5Bi%5D%20%3E%20somme%29%20%3A%20%0A%20%20%20%20%20%20i%20%2B%3D%201%0A%20%20%20%20rendu%20%3D%20rendu_monnaie_rec%28pieces%2C%20somme%20-%20pieces%5Bi%5D%29%0A%20%20%20%20rendu.append%28pieces%5Bi%5D%29%0A%20%20return%20rendu%0A%0Apieces%20%3D%20%5B500%2C%20200%2C%20100%2C%2050%2C%2020%2C%2010%2C%205%2C%202%2C%201%5D%0An%20%3D%2037%0Aprint%28rendu_monnaie_rec%28pieces%2C%20n%29%29%0Aprint%28n%29&origin=opt-frontend.js&cumulative=false&heapPrimitives=false&textReferences=false&py=3&rawInputLstJSON=%5B%5D&curInstr=0&codeDivWidth=350&codeDivHeight=400\"\n",
              "            frameborder=\"0\"\n",
              "            allowfullscreen\n",
              "        ></iframe>\n",
              "        "
            ],
            "text/plain": [
              "<IPython.lib.display.IFrame at 0x7f4f55064438>"
            ]
          },
          "metadata": {
            "tags": []
          }
        }
      ]
    },
    {
      "cell_type": "code",
      "metadata": {
        "id": "P7Lg9hsGgcUW",
        "colab_type": "code",
        "outputId": "900a516c-83f7-4278-8227-ef900a128d52",
        "colab": {
          "base_uri": "https://localhost:8080/",
          "height": 522
        }
      },
      "source": [
        "%%tutor\n",
        "pieces = [500, 200, 100, 50, 20, 10, 5, 2, 1]\n",
        "n = 37\n",
        "print(rendu_monnaie_rec(pieces, n))\n",
        "print(n)\n"
      ],
      "execution_count": 0,
      "outputs": [
        {
          "output_type": "display_data",
          "data": {
            "text/html": [
              "\n",
              "        <iframe\n",
              "            width=\"100%\"\n",
              "            height=\"500\"\n",
              "            src=\"https://pythontutor.com/iframe-embed.html#code=pieces%20%3D%20%5B500%2C%20200%2C%20100%2C%2050%2C%2020%2C%2010%2C%205%2C%202%2C%201%5D%0An%20%3D%2037%0Aprint%28rendu_monnaie_rec%28pieces%2C%20n%29%29%0Aprint%28n%29&origin=opt-frontend.js&cumulative=false&heapPrimitives=false&textReferences=false&py=3&rawInputLstJSON=%5B%5D&curInstr=0&codeDivWidth=350&codeDivHeight=400\"\n",
              "            frameborder=\"0\"\n",
              "            allowfullscreen\n",
              "        ></iframe>\n",
              "        "
            ],
            "text/plain": [
              "<IPython.lib.display.IFrame at 0x7f4f552b36d8>"
            ]
          },
          "metadata": {
            "tags": []
          }
        }
      ]
    },
    {
      "cell_type": "markdown",
      "metadata": {
        "id": "Y6dHYII4wKhI",
        "colab_type": "text"
      },
      "source": [
        "## sac à dos "
      ]
    },
    {
      "cell_type": "code",
      "metadata": {
        "id": "tQeqapw8wOQ2",
        "colab_type": "code",
        "outputId": "60ad9c23-6a96-44c1-b55c-fb0956451a85",
        "colab": {
          "base_uri": "https://localhost:8080/",
          "height": 86
        }
      },
      "source": [
        "from random import randint\n",
        "objets = [(randint(1,7),randint(2,15)) for i in range(9)]\n",
        "objets.sort(key = lambda x:x[1]/x[0], reverse=True)\n",
        "objets_poids = [objets[i][0] for i in range (len(objets))]\n",
        "def met_en_forme(obj1, obj2) : \n",
        "  obj = []\n",
        "  for i in range (len(obj2)):\n",
        "    if obj2[i] :\n",
        "      obj.append(obj1[i])\n",
        "  return obj\n",
        "\n",
        "\n",
        "def sac_a_dos( objets_poids, poids):\n",
        "  objets_sac = []\n",
        "  poids_total = 0 \n",
        "  for i in range(len(objets_poids)):\n",
        "    if poids_total + objets_poids[i] <= poids :\n",
        "      objets_sac.append(1)\n",
        "      poids_total = poids_total + objets_poids[i]\n",
        "    else : \n",
        "      objets_sac.append(0)\n",
        "  return objets_sac\n",
        "\n",
        "poids = int(input(\"Entrer le poids :\"))\n",
        "print(objets)\n",
        "print(objets_poids)\n",
        "print(met_en_forme(objets, sac_a_dos(objets_poids, poids)))\n",
        "\n"
      ],
      "execution_count": 0,
      "outputs": [
        {
          "output_type": "stream",
          "text": [
            "Entrer le poids :20\n",
            "[(2, 15), (2, 9), (4, 13), (4, 8), (5, 7), (6, 6), (5, 5), (3, 2), (7, 4)]\n",
            "[2, 2, 4, 4, 5, 6, 5, 3, 7]\n",
            "[(2, 15), (2, 9), (4, 13), (4, 8), (5, 7), (3, 2)]\n"
          ],
          "name": "stdout"
        }
      ]
    }
  ]
}